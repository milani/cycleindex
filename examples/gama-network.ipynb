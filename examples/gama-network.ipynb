{
 "cells": [
  {
   "cell_type": "markdown",
   "metadata": {},
   "source": [
    "# Gahuku-Gama"
   ]
  },
  {
   "cell_type": "markdown",
   "metadata": {},
   "source": [
    "In this tutorial, we learn how to use `cycleindex` package to calculate balance ratios $R_l$ for Gahuku-Gama network which is a signed network of tribes of Gahuku-Gama aliance structure [1].\n",
    "\n",
    "[1] http://konect.uni-koblenz.de/networks/ucidata-gama"
   ]
  },
  {
   "cell_type": "markdown",
   "metadata": {},
   "source": [
    "First, let's import packages we use throughout this tutorial."
   ]
  },
  {
   "cell_type": "code",
   "execution_count": 1,
   "metadata": {},
   "outputs": [],
   "source": [
    "import time\n",
    "import numpy as np\n",
    "from cycleindex.sampling import nrsampling, vxsampling\n",
    "from cycleindex import clean_matrix, cycle_count, balance_ratio"
   ]
  },
  {
   "cell_type": "markdown",
   "metadata": {},
   "source": [
    "Now, define the network"
   ]
  },
  {
   "cell_type": "code",
   "execution_count": 2,
   "metadata": {},
   "outputs": [
    {
     "name": "stdout",
     "output_type": "stream",
     "text": [
      "# nodes: 16\n",
      "# positive edges: 850\n",
      "# negative edges: 948\n"
     ]
    }
   ],
   "source": [
    "gama_pos = np.array(\n",
    "    [[0,1,0,0,0,0,0,0,0,0,0,0,0,0,1,1],\n",
    "     [1,0,0,0,0,0,0,0,0,0,0,0,0,0,1,1],\n",
    "     [0,0,0,1,0,1,1,1,0,0,0,0,0,0,0,0],\n",
    "     [0,0,1,0,0,0,0,1,0,0,0,0,0,0,0,0],\n",
    "     [0,0,0,0,0,0,1,0,1,0,0,0,0,1,0,0],\n",
    "     [0,0,1,0,0,0,1,1,0,0,1,1,0,0,0,0],\n",
    "     [0,0,1,0,1,1,0,1,0,0,1,1,1,0,0,0],\n",
    "     [0,0,1,1,0,1,1,0,0,0,1,1,0,0,0,0],\n",
    "     [0,0,0,0,1,0,0,0,0,1,0,0,1,0,0,0],\n",
    "     [0,0,0,0,0,0,0,0,1,0,0,0,1,0,0,0],\n",
    "     [0,0,0,0,0,1,1,1,0,0,0,1,0,0,0,0],\n",
    "     [0,0,0,0,0,1,1,1,0,0,1,0,0,0,0,0],\n",
    "     [0,0,0,0,0,0,1,0,1,1,0,0,0,1,0,0],\n",
    "     [0,0,0,0,1,0,0,0,0,0,0,0,1,0,0,0],\n",
    "     [1,1,0,0,0,0,0,0,0,0,0,0,0,0,0,1],\n",
    "     [1,1,0,0,0,0,0,0,0,0,0,0,0,0,1,0]]\n",
    ")\n",
    "\n",
    "gama_neg = np.array(\n",
    "    [[0,0,1,1,1,1,0,0,0,0,0,1,0,0,0,0],\n",
    "     [0,0,1,0,1,1,0,0,1,1,0,0,0,0,0,0],\n",
    "     [1,1,0,0,0,0,0,0,0,0,0,0,0,0,0,0],\n",
    "     [1,0,0,0,0,0,0,0,0,0,0,0,0,0,0,0],\n",
    "     [1,1,0,0,0,0,0,0,0,0,0,0,0,0,1,1],\n",
    "     [1,1,0,0,0,0,0,0,1,0,0,0,1,0,0,1],\n",
    "     [0,0,0,0,0,0,0,0,0,0,0,0,0,0,0,0],\n",
    "     [0,0,0,0,0,0,0,0,0,0,0,0,0,1,0,0],\n",
    "     [0,1,0,0,0,1,0,0,0,0,1,0,0,0,1,0],\n",
    "     [0,1,0,0,0,0,0,0,0,0,1,0,0,0,1,0],\n",
    "     [0,0,0,0,0,0,0,0,1,1,0,0,1,0,1,1],\n",
    "     [1,0,0,0,0,0,0,0,0,0,0,0,0,1,1,1],\n",
    "     [0,0,0,0,0,1,0,0,0,0,1,0,0,0,1,1],\n",
    "     [0,0,0,0,0,0,0,1,0,0,0,1,0,0,0,1],\n",
    "     [0,0,0,0,1,0,0,0,1,1,1,1,1,0,0,0],\n",
    "     [0,0,0,0,1,1,0,0,0,0,1,1,1,1,0,0]]\n",
    ")\n",
    "\n",
    "gama = gama_pos - gama_neg\n",
    "\n",
    "print(\"# nodes: {}\".format(len(gama)))\n",
    "print(\"# positive edges: {}\".format(np.sum(np.where(gama > 0))))\n",
    "print(\"# negative edges: {}\".format(np.sum(np.where(gama < 0))))"
   ]
  },
  {
   "cell_type": "markdown",
   "metadata": {},
   "source": [
    "### Preprocess"
   ]
  },
  {
   "cell_type": "markdown",
   "metadata": {},
   "source": [
    "We know that isolated vertices, sinks and sources do not contribute in our calculations. So it is better to remove them. The function `clean_matrix` helps us with that. Gama network is not a good example, as it contains no isolated vertices nor sinks or sources. But we do it for demonstration purposes."
   ]
  },
  {
   "cell_type": "code",
   "execution_count": 3,
   "metadata": {},
   "outputs": [
    {
     "name": "stdout",
     "output_type": "stream",
     "text": [
      "# nodes: 16\n",
      "# positive edges: 850\n",
      "# negative edges: 948\n"
     ]
    }
   ],
   "source": [
    "gama_reduced = clean_matrix(gama)\n",
    "\n",
    "print(\"# nodes: {}\".format(len(gama_reduced)))\n",
    "print(\"# positive edges: {}\".format(np.sum(np.where(gama_reduced > 0))))\n",
    "print(\"# negative edges: {}\".format(np.sum(np.where(gama_reduced < 0))))"
   ]
  },
  {
   "cell_type": "markdown",
   "metadata": {},
   "source": [
    "### Counting cycles"
   ]
  },
  {
   "cell_type": "markdown",
   "metadata": {},
   "source": [
    "We start by counting cycles in the network. To do that, we use `cycle_count` function. It gets the adjacency matrix and the maximum cycle length we need."
   ]
  },
  {
   "cell_type": "code",
   "execution_count": 4,
   "metadata": {},
   "outputs": [],
   "source": [
    "?cycle_count # run to see the documentation on the pager."
   ]
  },
  {
   "cell_type": "code",
   "execution_count": 5,
   "metadata": {},
   "outputs": [
    {
     "name": "stdout",
     "output_type": "stream",
     "text": [
      "Runtime: 0.61s\n"
     ]
    }
   ],
   "source": [
    "start = time.time()\n",
    "counts = cycle_count(gama_reduced,5)\n",
    "print(\"Runtime: {:.2f}s\".format(time.time() - start))"
   ]
  },
  {
   "cell_type": "code",
   "execution_count": 6,
   "metadata": {},
   "outputs": [
    {
     "name": "stdout",
     "output_type": "stream",
     "text": [
      "([0.0, 58.0, 99.999999999999986, 250.00000000000006, 598.00000000000409], [0.0, 58.0, 135.99999999999997, 566.0, 2478.0000000000127])\n",
      "[[    0.    58.   100.   250.   598.]\n",
      " [    0.    58.   136.   566.  2478.]]\n"
     ]
    }
   ],
   "source": [
    "print(counts)\n",
    "print(np.array(counts)) # Numpy deals with floating-point issues better."
   ]
  },
  {
   "cell_type": "markdown",
   "metadata": {},
   "source": [
    "The first list shows $N_l^+ - N_l^-$ and the second list shows $N_l^+ + N_l^-$ for $l \\in \\{0,1,...,5\\}$ where $N_l^+$ and $N_l^-$ are number of positive and negative simple cycles of length `l`. For weighted networks, the weight of a cycle is equal to multiplication of the weights of the edges in the cycle.\n",
    "\n",
    "It is easy to calculate $N_l^+$ and $N_l^-$ using these two lists."
   ]
  },
  {
   "cell_type": "markdown",
   "metadata": {},
   "source": [
    "### Calculating exact balance ratios"
   ]
  },
  {
   "cell_type": "markdown",
   "metadata": {},
   "source": [
    "\n",
    "Use `balance_ratio` function to calculate $R_l = \\dfrac{N_l^-}{N_l^+ + N_l^-} $. This function has a few tricky parameters that we will discuss later. For now, we want exact ratios as the network is small."
   ]
  },
  {
   "cell_type": "code",
   "execution_count": 7,
   "metadata": {},
   "outputs": [
    {
     "name": "stdout",
     "output_type": "stream",
     "text": [
      "Runtime: 0.58s\n",
      "[ 0.          0.          0.13235294  0.27915194  0.37933818]\n"
     ]
    }
   ],
   "source": [
    "start = time.time()\n",
    "ratios = balance_ratio(gama_reduced, 5, exact=True)\n",
    "print(\"Runtime: {:.2f}s\".format(time.time() - start))\n",
    "print(ratios)"
   ]
  },
  {
   "cell_type": "markdown",
   "metadata": {},
   "source": [
    "### Estimating balance ratios defining the sampling algorithm and number of samples needed."
   ]
  },
  {
   "cell_type": "markdown",
   "metadata": {},
   "source": [
    "`Cycleindex` provides two functions for graph sampling:\n",
    "\n",
    "* `vxsampling` is an implementation of vertex expansion algorithm. It chooses a node at random and tries to expand the forming subgraph by selecting the neighbouring nodes at random and adding them to the subgraph [1].\n",
    "* `nrsampling` which tries to sample subgraphs uniformly at random [1]. Choose this algorithm if the degree distribution of the network at hand is skewed.\n",
    "\n",
    "Using these two functions, we are able to estimate balance ratios where exact calculation is not feasible."
   ]
  },
  {
   "cell_type": "code",
   "execution_count": 8,
   "metadata": {},
   "outputs": [
    {
     "name": "stdout",
     "output_type": "stream",
     "text": [
      "Runtime: 10.94s\n",
      "[ 0.          0.          0.11941748  0.25386624  0.33949504]\n"
     ]
    }
   ],
   "source": [
    "start = time.time()\n",
    "ratios = balance_ratio(gama_reduced, 5, exact=False, n_samples=3000, parallel=False, sampling_func=vxsampling)\n",
    "print(\"Runtime: {:.2f}s\".format(time.time() - start))\n",
    "print(ratios)"
   ]
  },
  {
   "cell_type": "markdown",
   "metadata": {},
   "source": [
    "As you can see, the ratios are not accurate, but good enough. We can also use multiple processes to calculate the ratio."
   ]
  },
  {
   "cell_type": "code",
   "execution_count": 9,
   "metadata": {},
   "outputs": [
    {
     "name": "stdout",
     "output_type": "stream",
     "text": [
      "Runtime: 7.24s\n",
      "[ 0.          0.          0.12830859  0.27434327  0.37111597]\n"
     ]
    }
   ],
   "source": [
    "start = time.time()\n",
    "ratios = balance_ratio(gama_reduced, 5, exact=False, n_samples=3000, parallel=True, sampling_func=vxsampling)\n",
    "print(\"Runtime: {:.2f}s\".format(time.time() - start))\n",
    "print(ratios)"
   ]
  },
  {
   "cell_type": "markdown",
   "metadata": {},
   "source": [
    "The PC I am using has only two cores, so the improvement is not that much. When more cores are available, the algorithm uses all of them."
   ]
  },
  {
   "cell_type": "markdown",
   "metadata": {},
   "source": [
    "### Estimating balance ratios upto the desired accuracy"
   ]
  },
  {
   "cell_type": "markdown",
   "metadata": {},
   "source": [
    "In the previous section, we used `n_samples` argument to specify how many samples to use for estimation. Often, we are not sure how many samples we need to have an accurate estimation. We can use `accuracy` parameter to specify how accurate we expect the result to be. The function then samples the graph until the ratios converge, i.e. the standard deviation falls below the `accuracy` specified."
   ]
  },
  {
   "cell_type": "code",
   "execution_count": 10,
   "metadata": {},
   "outputs": [
    {
     "name": "stdout",
     "output_type": "stream",
     "text": [
      "Runtime: 16.98s\n",
      "[ 0.          0.          0.13558333  0.27250851  0.37974528]\n"
     ]
    }
   ],
   "source": [
    "start = time.time()\n",
    "ratios = balance_ratio(gama_reduced, 5, exact=False, accuracy=0.01, parallel=True, sampling_func=vxsampling)\n",
    "print(\"Runtime: {:.2f}s\".format(time.time() - start))\n",
    "print(ratios)"
   ]
  },
  {
   "cell_type": "markdown",
   "metadata": {},
   "source": [
    "#### References\n",
    "[1] Lu X., Bressan S. (2012) Sampling Connected Induced Subgraphs Uniformly at Random. In: Ailamaki A., Bowers S. (eds) Scientific and Statistical Database Management. SSDBM 2012. Lecture Notes in Computer Science, vol 7338. Springer, Berlin, Heidelberg\n"
   ]
  }
 ],
 "metadata": {
  "kernelspec": {
   "display_name": "Python 2",
   "language": "python",
   "name": "python2"
  },
  "language_info": {
   "codemirror_mode": {
    "name": "ipython",
    "version": 2
   },
   "file_extension": ".py",
   "mimetype": "text/x-python",
   "name": "python",
   "nbconvert_exporter": "python",
   "pygments_lexer": "ipython2",
   "version": "2.7.12"
  }
 },
 "nbformat": 4,
 "nbformat_minor": 2
}
